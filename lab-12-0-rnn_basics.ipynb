# -*- coding: utf-8 -*-
"""
Created on Fri Aug 10 17:50:05 2018

@author: DLY
"""

